{
 "cells": [
  {
   "cell_type": "code",
   "execution_count": 1,
   "id": "0ba2a0a5",
   "metadata": {},
   "outputs": [],
   "source": [
    "import pandas as pd\n",
    "import numpy as np\n",
    "from sklearn.model_selection import train_test_split\n",
    "from sklearn.model_selection import cross_val_score\n",
    "#import required library"
   ]
  },
  {
   "cell_type": "code",
   "execution_count": 2,
   "id": "70384a35",
   "metadata": {},
   "outputs": [],
   "source": [
    "#import dataset from storage location\n",
    "dat= pd.read_csv(r'H:\\00ml\\dat2\\cleaned data\\mergedata\\n_merge\\final_file_data.csv')"
   ]
  },
  {
   "cell_type": "code",
   "execution_count": 4,
   "id": "58ec7edc",
   "metadata": {},
   "outputs": [
    {
     "data": {
      "text/html": [
       "<div>\n",
       "<style scoped>\n",
       "    .dataframe tbody tr th:only-of-type {\n",
       "        vertical-align: middle;\n",
       "    }\n",
       "\n",
       "    .dataframe tbody tr th {\n",
       "        vertical-align: top;\n",
       "    }\n",
       "\n",
       "    .dataframe thead th {\n",
       "        text-align: right;\n",
       "    }\n",
       "</style>\n",
       "<table border=\"1\" class=\"dataframe\">\n",
       "  <thead>\n",
       "    <tr style=\"text-align: right;\">\n",
       "      <th></th>\n",
       "      <th>FlightDate</th>\n",
       "      <th>Quarter</th>\n",
       "      <th>Year</th>\n",
       "      <th>Month</th>\n",
       "      <th>DayofMonth</th>\n",
       "      <th>DepTime</th>\n",
       "      <th>DepDel15</th>\n",
       "      <th>CRSDepTime</th>\n",
       "      <th>DepDelayMinutes</th>\n",
       "      <th>OriginAirportID</th>\n",
       "      <th>...</th>\n",
       "      <th>weatherCode_Dest</th>\n",
       "      <th>precipMM_Dest</th>\n",
       "      <th>visibility_Dest</th>\n",
       "      <th>pressure_Dest</th>\n",
       "      <th>cloudcover_Dest</th>\n",
       "      <th>DewPointF_Dest</th>\n",
       "      <th>WindGustKmph_Dest</th>\n",
       "      <th>tempF_Dest</th>\n",
       "      <th>WindChillF_Dest</th>\n",
       "      <th>humidity_Dest</th>\n",
       "    </tr>\n",
       "  </thead>\n",
       "  <tbody>\n",
       "    <tr>\n",
       "      <th>0</th>\n",
       "      <td>2016-01-01</td>\n",
       "      <td>1</td>\n",
       "      <td>2016</td>\n",
       "      <td>1</td>\n",
       "      <td>1</td>\n",
       "      <td>606.0</td>\n",
       "      <td>0.0</td>\n",
       "      <td>600</td>\n",
       "      <td>6.0</td>\n",
       "      <td>10397</td>\n",
       "      <td>...</td>\n",
       "      <td>302.0</td>\n",
       "      <td>1.4</td>\n",
       "      <td>5.0</td>\n",
       "      <td>1019.0</td>\n",
       "      <td>89.0</td>\n",
       "      <td>71.0</td>\n",
       "      <td>6.0</td>\n",
       "      <td>73.0</td>\n",
       "      <td>72.0</td>\n",
       "      <td>96.0</td>\n",
       "    </tr>\n",
       "    <tr>\n",
       "      <th>1</th>\n",
       "      <td>2016-01-01</td>\n",
       "      <td>1</td>\n",
       "      <td>2016</td>\n",
       "      <td>1</td>\n",
       "      <td>1</td>\n",
       "      <td>642.0</td>\n",
       "      <td>0.0</td>\n",
       "      <td>645</td>\n",
       "      <td>0.0</td>\n",
       "      <td>10397</td>\n",
       "      <td>...</td>\n",
       "      <td>143.0</td>\n",
       "      <td>0.1</td>\n",
       "      <td>5.0</td>\n",
       "      <td>1020.0</td>\n",
       "      <td>100.0</td>\n",
       "      <td>74.0</td>\n",
       "      <td>14.0</td>\n",
       "      <td>77.0</td>\n",
       "      <td>76.0</td>\n",
       "      <td>93.0</td>\n",
       "    </tr>\n",
       "    <tr>\n",
       "      <th>2</th>\n",
       "      <td>2016-01-01</td>\n",
       "      <td>1</td>\n",
       "      <td>2016</td>\n",
       "      <td>1</td>\n",
       "      <td>1</td>\n",
       "      <td>644.0</td>\n",
       "      <td>0.0</td>\n",
       "      <td>645</td>\n",
       "      <td>0.0</td>\n",
       "      <td>10397</td>\n",
       "      <td>...</td>\n",
       "      <td>122.0</td>\n",
       "      <td>0.0</td>\n",
       "      <td>10.0</td>\n",
       "      <td>1024.0</td>\n",
       "      <td>89.0</td>\n",
       "      <td>17.0</td>\n",
       "      <td>28.0</td>\n",
       "      <td>21.0</td>\n",
       "      <td>8.0</td>\n",
       "      <td>87.0</td>\n",
       "    </tr>\n",
       "    <tr>\n",
       "      <th>3</th>\n",
       "      <td>2016-01-01</td>\n",
       "      <td>1</td>\n",
       "      <td>2016</td>\n",
       "      <td>1</td>\n",
       "      <td>1</td>\n",
       "      <td>644.0</td>\n",
       "      <td>0.0</td>\n",
       "      <td>645</td>\n",
       "      <td>0.0</td>\n",
       "      <td>10397</td>\n",
       "      <td>...</td>\n",
       "      <td>122.0</td>\n",
       "      <td>0.0</td>\n",
       "      <td>10.0</td>\n",
       "      <td>1024.0</td>\n",
       "      <td>89.0</td>\n",
       "      <td>17.0</td>\n",
       "      <td>28.0</td>\n",
       "      <td>21.0</td>\n",
       "      <td>8.0</td>\n",
       "      <td>87.0</td>\n",
       "    </tr>\n",
       "    <tr>\n",
       "      <th>4</th>\n",
       "      <td>2016-01-01</td>\n",
       "      <td>1</td>\n",
       "      <td>2016</td>\n",
       "      <td>1</td>\n",
       "      <td>1</td>\n",
       "      <td>652.0</td>\n",
       "      <td>1.0</td>\n",
       "      <td>615</td>\n",
       "      <td>37.0</td>\n",
       "      <td>10397</td>\n",
       "      <td>...</td>\n",
       "      <td>122.0</td>\n",
       "      <td>0.0</td>\n",
       "      <td>10.0</td>\n",
       "      <td>1024.0</td>\n",
       "      <td>89.0</td>\n",
       "      <td>17.0</td>\n",
       "      <td>28.0</td>\n",
       "      <td>21.0</td>\n",
       "      <td>8.0</td>\n",
       "      <td>87.0</td>\n",
       "    </tr>\n",
       "  </tbody>\n",
       "</table>\n",
       "<p>5 rows × 39 columns</p>\n",
       "</div>"
      ],
      "text/plain": [
       "   FlightDate  Quarter  Year  Month  DayofMonth  DepTime  DepDel15  \\\n",
       "0  2016-01-01        1  2016      1           1    606.0       0.0   \n",
       "1  2016-01-01        1  2016      1           1    642.0       0.0   \n",
       "2  2016-01-01        1  2016      1           1    644.0       0.0   \n",
       "3  2016-01-01        1  2016      1           1    644.0       0.0   \n",
       "4  2016-01-01        1  2016      1           1    652.0       1.0   \n",
       "\n",
       "   CRSDepTime  DepDelayMinutes  OriginAirportID  ...  weatherCode_Dest  \\\n",
       "0         600              6.0            10397  ...             302.0   \n",
       "1         645              0.0            10397  ...             143.0   \n",
       "2         645              0.0            10397  ...             122.0   \n",
       "3         645              0.0            10397  ...             122.0   \n",
       "4         615             37.0            10397  ...             122.0   \n",
       "\n",
       "   precipMM_Dest  visibility_Dest  pressure_Dest  cloudcover_Dest  \\\n",
       "0            1.4              5.0         1019.0             89.0   \n",
       "1            0.1              5.0         1020.0            100.0   \n",
       "2            0.0             10.0         1024.0             89.0   \n",
       "3            0.0             10.0         1024.0             89.0   \n",
       "4            0.0             10.0         1024.0             89.0   \n",
       "\n",
       "   DewPointF_Dest  WindGustKmph_Dest  tempF_Dest  WindChillF_Dest  \\\n",
       "0            71.0                6.0        73.0             72.0   \n",
       "1            74.0               14.0        77.0             76.0   \n",
       "2            17.0               28.0        21.0              8.0   \n",
       "3            17.0               28.0        21.0              8.0   \n",
       "4            17.0               28.0        21.0              8.0   \n",
       "\n",
       "   humidity_Dest  \n",
       "0           96.0  \n",
       "1           93.0  \n",
       "2           87.0  \n",
       "3           87.0  \n",
       "4           87.0  \n",
       "\n",
       "[5 rows x 39 columns]"
      ]
     },
     "execution_count": 4,
     "metadata": {},
     "output_type": "execute_result"
    }
   ],
   "source": [
    "dat.head()"
   ]
  },
  {
   "cell_type": "code",
   "execution_count": 3,
   "id": "e32c6103",
   "metadata": {},
   "outputs": [],
   "source": [
    "#droping null and empty row from dataset\n",
    "dat=dat.replace('',np.NaN)\n",
    "dat=dat.dropna()"
   ]
  },
  {
   "cell_type": "code",
   "execution_count": 4,
   "id": "cc33b43b",
   "metadata": {},
   "outputs": [],
   "source": [
    "#arranging columns suitable for test and train split and for further process\n",
    "dat=dat[['FlightDate','precipMM_Origin','precipMM_Dest',\n",
    " 'Quarter','Year','Month','DayofMonth','DepTime','DepDel15','CRSDepTime','DepDelayMinutes','OriginAirportID','DestAirportID',\n",
    " 'ArrTime','CRSArrTime','windspeedKmph_Origin', 'winddirDegree_Origin', 'weatherCode_Origin', 'visibility_Origin', 'pressure_Origin',\n",
    " 'cloudcover_Origin', 'DewPointF_Origin', 'WindGustKmph_Origin', 'tempF_Origin', 'WindChillF_Origin', 'humidity_Origin',\n",
    " 'windspeedKmph_Dest', 'winddirDegree_Dest', 'weatherCode_Dest', 'visibility_Dest', 'pressure_Dest', 'cloudcover_Dest',\n",
    " 'DewPointF_Dest', 'WindGustKmph_Dest', 'tempF_Dest', 'WindChillF_Dest', 'humidity_Dest', 'ArrDel15', 'ArrDelayMinutes' ]]"
   ]
  },
  {
   "cell_type": "code",
   "execution_count": 5,
   "id": "02ddeb3d",
   "metadata": {},
   "outputs": [
    {
     "data": {
      "text/plain": [
       "0.0       1117786\n",
       "1.0         31621\n",
       "2.0         29690\n",
       "3.0         28403\n",
       "4.0         25775\n",
       "           ...   \n",
       "860.0           1\n",
       "1425.0          1\n",
       "636.0           1\n",
       "726.0           1\n",
       "599.0           1\n",
       "Name: ArrDelayMinutes, Length: 1069, dtype: int64"
      ]
     },
     "execution_count": 5,
     "metadata": {},
     "output_type": "execute_result"
    }
   ],
   "source": [
    "dat['ArrDelayMinutes'].value_counts()"
   ]
  },
  {
   "cell_type": "code",
   "execution_count": 6,
   "id": "a4b2a75c",
   "metadata": {},
   "outputs": [],
   "source": [
    "#split dependent and indepentent data\n",
    "Arr_delay=pd.DataFrame(dat.iloc[:,3:-2])\n",
    "Other_data=pd.DataFrame(dat.iloc[:,-1:])"
   ]
  },
  {
   "cell_type": "code",
   "execution_count": 7,
   "id": "71fae8e8",
   "metadata": {},
   "outputs": [],
   "source": [
    "#split data for training model and testing model\n",
    "from sklearn.model_selection import train_test_split\n",
    "x_train, x_test, y_train, y_test=train_test_split(Arr_delay,Other_data,test_size=0.3,random_state=1)"
   ]
  },
  {
   "cell_type": "markdown",
   "id": "d06c3017",
   "metadata": {},
   "source": [
    "# LinearRegression"
   ]
  },
  {
   "cell_type": "code",
   "execution_count": 8,
   "id": "aee08b34",
   "metadata": {},
   "outputs": [
    {
     "data": {
      "text/plain": [
       "LinearRegression()"
      ]
     },
     "execution_count": 8,
     "metadata": {},
     "output_type": "execute_result"
    }
   ],
   "source": [
    "from sklearn.linear_model import LinearRegression\n",
    "lrc=LinearRegression()\n",
    "lrc.fit(x_train,y_train)"
   ]
  },
  {
   "cell_type": "code",
   "execution_count": 9,
   "id": "11a2b446",
   "metadata": {},
   "outputs": [
    {
     "name": "stdout",
     "output_type": "stream",
     "text": [
      "Accuracy 93.45328290609862 %\n",
      "score: 0.9332666919466637\n"
     ]
    }
   ],
   "source": [
    "l_pred=lrc.predict(x_test)\n",
    "l_accuracy = lrc.score(x_test,y_test)\n",
    "print(\"Accuracy\",l_accuracy*100,\"%\")\n",
    "\n",
    "\n",
    "l_score = lrc.score(x_train,y_train)\n",
    "print(\"score:\",l_score)\n"
   ]
  },
  {
   "cell_type": "markdown",
   "id": "24c99edb",
   "metadata": {},
   "source": [
    "# DecisionTreeRegressor"
   ]
  },
  {
   "cell_type": "code",
   "execution_count": 10,
   "id": "77fa97bb",
   "metadata": {},
   "outputs": [
    {
     "data": {
      "text/plain": [
       "DecisionTreeRegressor()"
      ]
     },
     "execution_count": 10,
     "metadata": {},
     "output_type": "execute_result"
    }
   ],
   "source": [
    "from sklearn import tree\n",
    "dtc = tree.DecisionTreeRegressor()\n",
    "dtc.fit(x_train,y_train)"
   ]
  },
  {
   "cell_type": "code",
   "execution_count": 27,
   "id": "cbae787d",
   "metadata": {},
   "outputs": [
    {
     "name": "stdout",
     "output_type": "stream",
     "text": [
      "Accuracy 92.883872009246 %\n",
      "score: 1.0\n"
     ]
    }
   ],
   "source": [
    "d_pred=dtc.predict(x_test)\n",
    "d_accuracy = dtc.score(x_test,y_test)\n",
    "print(\"Accuracy\",d_accuracy*100,\"%\")\n",
    "\n",
    "\n",
    "d_score = dtc.score(x_train,y_train)\n",
    "print(\"score:\",d_score)"
   ]
  },
  {
   "cell_type": "markdown",
   "id": "bc7ef87e",
   "metadata": {},
   "source": [
    "# ExtraTreesRegressor"
   ]
  },
  {
   "cell_type": "code",
   "execution_count": 12,
   "id": "23b94a3f",
   "metadata": {},
   "outputs": [
    {
     "name": "stderr",
     "output_type": "stream",
     "text": [
      "<ipython-input-12-d43da4ef2220>:3: DataConversionWarning: A column-vector y was passed when a 1d array was expected. Please change the shape of y to (n_samples,), for example using ravel().\n",
      "  etc.fit(x_train,y_train)\n"
     ]
    },
    {
     "data": {
      "text/plain": [
       "ExtraTreesRegressor(n_estimators=10)"
      ]
     },
     "execution_count": 12,
     "metadata": {},
     "output_type": "execute_result"
    }
   ],
   "source": [
    "from sklearn.ensemble import ExtraTreesRegressor\n",
    "etc = ExtraTreesRegressor(n_estimators=10)\n",
    "etc.fit(x_train,y_train)"
   ]
  },
  {
   "cell_type": "code",
   "execution_count": 26,
   "id": "1d0661f9",
   "metadata": {},
   "outputs": [
    {
     "name": "stdout",
     "output_type": "stream",
     "text": [
      "Accuracy 95.4417103388558 %\n",
      "score: 1.0\n"
     ]
    }
   ],
   "source": [
    "e_pred=etc.predict(x_test)\n",
    "e_accuracy = etc.score(x_test,y_test)\n",
    "print(\"Accuracy\",e_accuracy*100,\"%\")\n",
    "\n",
    "e_score = etc.score(x_train,y_train)\n",
    "print(\"score:\",e_score)"
   ]
  },
  {
   "cell_type": "markdown",
   "id": "91a1c839",
   "metadata": {},
   "source": [
    "# RandomForestRegressor"
   ]
  },
  {
   "cell_type": "code",
   "execution_count": 14,
   "id": "32e9c57c",
   "metadata": {},
   "outputs": [
    {
     "name": "stderr",
     "output_type": "stream",
     "text": [
      "<ipython-input-14-29fba17ebf7e>:3: DataConversionWarning: A column-vector y was passed when a 1d array was expected. Please change the shape of y to (n_samples,), for example using ravel().\n",
      "  rcf.fit(x_train,y_train)\n"
     ]
    },
    {
     "data": {
      "text/plain": [
       "RandomForestRegressor(n_estimators=10)"
      ]
     },
     "execution_count": 14,
     "metadata": {},
     "output_type": "execute_result"
    }
   ],
   "source": [
    "from sklearn.ensemble import RandomForestRegressor\n",
    "rcf = RandomForestRegressor(n_estimators=10)\n",
    "rcf.fit(x_train,y_train)\n"
   ]
  },
  {
   "cell_type": "code",
   "execution_count": 25,
   "id": "d53cad18",
   "metadata": {},
   "outputs": [
    {
     "name": "stdout",
     "output_type": "stream",
     "text": [
      "score: 0.9929109971427332\n",
      "Accuracy 96.26871470496859 %\n"
     ]
    }
   ],
   "source": [
    "from sklearn.model_selection import cross_val_score\n",
    "r_score = rcf.score(x_train,y_train)\n",
    "print(\"score:\",r_score)\n",
    "\n",
    "r_pred=rcf.predict(x_test)\n",
    "r_accuracy = rcf.score(x_test,y_test)\n",
    "print(\"Accuracy\",r_accuracy*100,\"%\")"
   ]
  },
  {
   "cell_type": "markdown",
   "id": "7286eb01",
   "metadata": {},
   "source": [
    "# GradientBoostingRegressor"
   ]
  },
  {
   "cell_type": "code",
   "execution_count": 16,
   "id": "1a7c5884",
   "metadata": {},
   "outputs": [
    {
     "name": "stderr",
     "output_type": "stream",
     "text": [
      "C:\\Users\\hp\\anaconda3\\lib\\site-packages\\sklearn\\utils\\validation.py:63: DataConversionWarning: A column-vector y was passed when a 1d array was expected. Please change the shape of y to (n_samples, ), for example using ravel().\n",
      "  return f(*args, **kwargs)\n"
     ]
    },
    {
     "data": {
      "text/plain": [
       "GradientBoostingRegressor(n_estimators=10)"
      ]
     },
     "execution_count": 16,
     "metadata": {},
     "output_type": "execute_result"
    }
   ],
   "source": [
    "from sklearn.ensemble import GradientBoostingRegressor\n",
    "gbc = GradientBoostingRegressor(n_estimators=10)\n",
    "gbc.fit(x_train,y_train)"
   ]
  },
  {
   "cell_type": "code",
   "execution_count": 24,
   "id": "3aa7f2c3",
   "metadata": {},
   "outputs": [
    {
     "name": "stdout",
     "output_type": "stream",
     "text": [
      "score: 0.8062273620368154\n",
      "Accuracy 80.4607808829464 %\n"
     ]
    }
   ],
   "source": [
    "from sklearn.model_selection import cross_val_score\n",
    "h_score = gbc.score(x_train,y_train)\n",
    "print(\"score:\",h_score)\n",
    "\n",
    "h_pred=gbc.predict(x_test)\n",
    "h_accuracy = gbc.score(x_test,y_test)\n",
    "print(\"Accuracy\",h_accuracy*100,\"%\")"
   ]
  },
  {
   "cell_type": "markdown",
   "id": "1d0d9f7c",
   "metadata": {},
   "source": [
    "# XGBRegressor"
   ]
  },
  {
   "cell_type": "code",
   "execution_count": 18,
   "id": "fa679bc5",
   "metadata": {},
   "outputs": [
    {
     "data": {
      "text/plain": [
       "XGBRegressor(base_score=0.5, booster='gbtree', colsample_bylevel=1,\n",
       "             colsample_bynode=1, colsample_bytree=1, gamma=0, gpu_id=-1,\n",
       "             importance_type='gain', interaction_constraints='',\n",
       "             learning_rate=0.300000012, max_delta_step=0, max_depth=6,\n",
       "             min_child_weight=1, missing=nan, monotone_constraints='()',\n",
       "             n_estimators=100, n_jobs=4, num_parallel_tree=1, random_state=0,\n",
       "             reg_alpha=0, reg_lambda=1, scale_pos_weight=1, subsample=1,\n",
       "             tree_method='exact', validate_parameters=1, verbosity=None)"
      ]
     },
     "execution_count": 18,
     "metadata": {},
     "output_type": "execute_result"
    }
   ],
   "source": [
    "from xgboost import XGBRegressor\n",
    "xgb = XGBRegressor()\n",
    "xgb.fit(x_train,y_train)"
   ]
  },
  {
   "cell_type": "code",
   "execution_count": 23,
   "id": "d2356662",
   "metadata": {},
   "outputs": [
    {
     "name": "stdout",
     "output_type": "stream",
     "text": [
      "score: 0.9919288748969315\n",
      "Accuracy 99.0810302170807 %\n"
     ]
    }
   ],
   "source": [
    "from sklearn.model_selection import cross_val_score\n",
    "x_score = xgb.score(x_train,y_train)\n",
    "print(\"score:\",x_score)\n",
    "\n",
    "x_pred=xgb.predict(x_test)\n",
    "x_accuracy =xgb.score(x_test,y_test)\n",
    "print(\"Accuracy\",x_accuracy*100,\"%\")"
   ]
  },
  {
   "cell_type": "markdown",
   "id": "10aa3d57",
   "metadata": {},
   "source": [
    "# Accuracy comparison"
   ]
  },
  {
   "cell_type": "code",
   "execution_count": 30,
   "id": "368660dd",
   "metadata": {},
   "outputs": [
    {
     "name": "stdout",
     "output_type": "stream",
     "text": [
      "XGB_Accuracy 99.0810302170807 %   score: 0.9919288748969315\n",
      "GBC_Accuracy 80.4607808829464 %   score: 0.8062273620368154\n",
      "RFC_Accuracy 96.26871470496859 %   score: 0.9929109971427332\n",
      "ETC_Accuracy 95.4417103388558 %   score: 1.0\n",
      "DTC_Accuracy 92.883872009246 %   score: 1.0\n",
      "LRC_Accuracy 93.45328290609862 %   score: 0.9332666919466637\n"
     ]
    }
   ],
   "source": [
    "#view multiple regression model result for decision making\n",
    "print(\"XGB_Accuracy\",x_accuracy*100,\"%\",\"  score:\",x_score)\n",
    "print(\"GBC_Accuracy\",h_accuracy*100,\"%\",\"  score:\",h_score)\n",
    "print(\"RFC_Accuracy\",r_accuracy*100,\"%\",\"  score:\",r_score)\n",
    "print(\"ETC_Accuracy\",e_accuracy*100,\"%\",\"  score:\",e_score)\n",
    "print(\"DTC_Accuracy\",d_accuracy*100,\"%\",\"  score:\",d_score)\n",
    "print(\"LRC_Accuracy\",l_accuracy*100,\"%\",\"  score:\",l_score)"
   ]
  },
  {
   "cell_type": "code",
   "execution_count": 32,
   "id": "84661cab",
   "metadata": {},
   "outputs": [
    {
     "name": "stderr",
     "output_type": "stream",
     "text": [
      "C:\\Users\\hp\\anaconda3\\lib\\site-packages\\seaborn\\_decorators.py:36: FutureWarning: Pass the following variables as keyword args: x, y. From version 0.12, the only valid positional argument will be `data`, and passing other arguments without an explicit keyword will result in an error or misinterpretation.\n",
      "  warnings.warn(\n"
     ]
    },
    {
     "data": {
      "text/plain": [
       "<AxesSubplot:>"
      ]
     },
     "execution_count": 32,
     "metadata": {},
     "output_type": "execute_result"
    },
    {
     "data": {
      "image/png": "[encoded data removed]",
      "text/plain": [
       "<Figure size 432x288 with 1 Axes>"
      ]
     },
     "metadata": {
      "needs_background": "light"
     },
     "output_type": "display_data"
    }
   ],
   "source": [
    "#visulaize the result in bar chart \n",
    "import matplotlib.pyplot as plt\n",
    "import seaborn as sns\n",
    "i=['XGB','GBC','RFC','ETC','DTC','LRC']\n",
    "j=[x_accuracy,h_accuracy,r_accuracy,e_accuracy,d_accuracy,l_accuracy]\n",
    "sns.barplot(i,j,color='green')"
   ]
  },
  {
   "cell_type": "code",
   "execution_count": null,
   "id": "4de97936",
   "metadata": {},
   "outputs": [],
   "source": []
  }
 ],
 "metadata": {
  "kernelspec": {
   "display_name": "Python 3",
   "language": "python",
   "name": "python3"
  },
  "language_info": {
   "codemirror_mode": {
    "name": "ipython",
    "version": 3
   },
   "file_extension": ".py",
   "mimetype": "text/x-python",
   "name": "python",
   "nbconvert_exporter": "python",
   "pygments_lexer": "ipython3",
   "version": "3.8.8"
  }
 },
 "nbformat": 4,
 "nbformat_minor": 5
}
